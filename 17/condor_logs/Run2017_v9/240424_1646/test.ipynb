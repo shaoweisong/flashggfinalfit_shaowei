{
 "cells": [
  {
   "cell_type": "code",
   "execution_count": 8,
   "metadata": {},
   "outputs": [],
   "source": [
    "import uproot\n",
    "import awkward as ak\n",
    "import numpy as np"
   ]
  },
  {
   "cell_type": "code",
   "execution_count": 3,
   "metadata": {},
   "outputs": [],
   "source": [
    "bbgg=uproot.open(\"/eos/cms/store/group/phys_b2g/shsong/flashggws/cat12/2017/MX2800_MH125/CombineFHSL_MX2800_MH125_2017_bbgg_cat12highpurity.root:gghh_125_13TeV_bbgg_cat12highpurity\")\n",
    "zzgg=uproot.open(\"/eos/cms/store/group/phys_b2g/shsong/flashggws/cat12/2017/MX2800_MH125/CombineFHSL_MX2800_MH125_2017_zzgg_cat12highpurity.root:gghh_125_13TeV_zzgg_cat12highpurity\")\n",
    "sig=uproot.open(\"/eos/cms/store/group/phys_b2g/shsong/flashggws/cat12/2017/MX2800_MH125/CombineFHSL_MX2800_MH125_2017_combineFHSL_cat12highpurity.root:gghh_125_13TeV_combineFHSL_cat12highpurity\")\n",
    "data=uproot.open(\"/eos/cms/store/group/phys_b2g/shsong/flashggws/cat12/2017/MX2800_MH125/Data_2017_combineFHSL_cat12highpurity_MX2800_MH125.root:Data_13TeV_combineFHSL_cat12highpurity\")"
   ]
  },
  {
   "cell_type": "code",
   "execution_count": 19,
   "metadata": {},
   "outputs": [
    {
     "data": {
      "text/plain": [
       "0.9681328"
      ]
     },
     "execution_count": 19,
     "metadata": {},
     "output_type": "execute_result"
    }
   ],
   "source": [
    "np.array(data['PBDT_score'])[np.argsort(np.array(data['PBDT_score']))][-6]"
   ]
  },
  {
   "cell_type": "code",
   "execution_count": 18,
   "metadata": {},
   "outputs": [
    {
     "name": "stdout",
     "output_type": "stream",
     "text": [
      "bbgg yield: 0.00014699215085867145\n",
      "sig yield: 0.007488324987574792\n",
      "zzgg yield: 0.0007163072590899586\n"
     ]
    }
   ],
   "source": [
    "bbggw=bbgg['weight'].array()\n",
    "zzggw=zzgg['weight'].array()\n",
    "sigw=sig['weight'].array()\n",
    "print(\"bbgg yield:\",ak.sum(bbggw[bbgg['PBDT_score'].array()>np.array(data['PBDT_score'])[np.argsort(np.array(data['PBDT_score']))][-6]]))\n",
    "print(\"sig yield:\",ak.sum(sigw[sig['PBDT_score'].array()>np.array(data['PBDT_score'])[np.argsort(np.array(data['PBDT_score']))][-6]]))\n",
    "print(\"zzgg yield:\",ak.sum(zzggw[zzgg['PBDT_score'].array()>np.array(data['PBDT_score'])[np.argsort(np.array(data['PBDT_score']))][-6]]))"
   ]
  },
  {
   "cell_type": "code",
   "execution_count": null,
   "metadata": {},
   "outputs": [],
   "source": []
  }
 ],
 "metadata": {
  "kernelspec": {
   "display_name": "higgsdna",
   "language": "python",
   "name": "python3"
  },
  "language_info": {
   "codemirror_mode": {
    "name": "ipython",
    "version": 3
   },
   "file_extension": ".py",
   "mimetype": "text/x-python",
   "name": "python",
   "nbconvert_exporter": "python",
   "pygments_lexer": "ipython3",
   "version": "3.9.18"
  }
 },
 "nbformat": 4,
 "nbformat_minor": 2
}
