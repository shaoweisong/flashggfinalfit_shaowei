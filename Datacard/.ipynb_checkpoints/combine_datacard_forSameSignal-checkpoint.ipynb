{
 "cells": [
  {
   "cell_type": "code",
   "execution_count": 1,
   "metadata": {},
   "outputs": [],
   "source": [
    "import pandas as pd\n",
    "import os\n",
    "import subprocess\n",
    "import glob"
   ]
  },
  {
   "cell_type": "code",
   "execution_count": null,
   "metadata": {},
   "outputs": [
    {
     "ename": "",
     "evalue": "",
     "output_type": "error",
     "traceback": [
      "\u001b[1;31m无法启动 Kernel。. \n",
      "\u001b[1;31m有关更多详细信息，请查看 Jupyter <a href='command:jupyter.viewOutput'>log</a>。"
     ]
    }
   ],
   "source": [
    "def add_all_line(df, line):\n",
    "    all_strings = ''\n",
    "    for strings in df.iloc[line]:\n",
    "        if type(strings) is str:\n",
    "            all_strings += strings + '     '\n",
    "    return all_strings\n"
   ]
  },
  {
   "cell_type": "code",
   "execution_count": 66,
   "metadata": {},
   "outputs": [
    {
     "name": "stdout",
     "output_type": "stream",
     "text": [
      "/afs/cern.ch/user/s/shsong/CMSSW_10_6_20/src/flashggFinalFit/Datacard/datacard_M250/Datacard_M250_cat5highpt.txt\n",
      "/afs/cern.ch/user/s/shsong/CMSSW_10_6_20/src/flashggFinalFit/Datacard/datacard_M300/Datacard_M300_cat5highpt.txt\n",
      "/afs/cern.ch/user/s/shsong/CMSSW_10_6_20/src/flashggFinalFit/Datacard/datacard_M400/Datacard_M400_cat5highpt.txt\n",
      "/afs/cern.ch/user/s/shsong/CMSSW_10_6_20/src/flashggFinalFit/Datacard/datacard_M500/Datacard_M500_cat5highpt.txt\n",
      "/afs/cern.ch/user/s/shsong/CMSSW_10_6_20/src/flashggFinalFit/Datacard/datacard_M600/Datacard_M600_cat5highpt.txt\n",
      "/afs/cern.ch/user/s/shsong/CMSSW_10_6_20/src/flashggFinalFit/Datacard/datacard_M700/Datacard_M700_cat5highpt.txt\n",
      "/afs/cern.ch/user/s/shsong/CMSSW_10_6_20/src/flashggFinalFit/Datacard/datacard_M800/Datacard_M800_cat5highpt.txt\n",
      "/afs/cern.ch/user/s/shsong/CMSSW_10_6_20/src/flashggFinalFit/Datacard/datacard_M900/Datacard_M900_cat5highpt.txt\n",
      "/afs/cern.ch/user/s/shsong/CMSSW_10_6_20/src/flashggFinalFit/Datacard/datacard_M1000/Datacard_M1000_cat5highpt.txt\n",
      "/afs/cern.ch/user/s/shsong/CMSSW_10_6_20/src/flashggFinalFit/Datacard/datacard_M250/Datacard_M250_cat5lowpt.txt\n",
      "/afs/cern.ch/user/s/shsong/CMSSW_10_6_20/src/flashggFinalFit/Datacard/datacard_M300/Datacard_M300_cat5lowpt.txt\n",
      "/afs/cern.ch/user/s/shsong/CMSSW_10_6_20/src/flashggFinalFit/Datacard/datacard_M400/Datacard_M400_cat5lowpt.txt\n",
      "/afs/cern.ch/user/s/shsong/CMSSW_10_6_20/src/flashggFinalFit/Datacard/datacard_M500/Datacard_M500_cat5lowpt.txt\n",
      "/afs/cern.ch/user/s/shsong/CMSSW_10_6_20/src/flashggFinalFit/Datacard/datacard_M600/Datacard_M600_cat5lowpt.txt\n",
      "/afs/cern.ch/user/s/shsong/CMSSW_10_6_20/src/flashggFinalFit/Datacard/datacard_M700/Datacard_M700_cat5lowpt.txt\n",
      "/afs/cern.ch/user/s/shsong/CMSSW_10_6_20/src/flashggFinalFit/Datacard/datacard_M800/Datacard_M800_cat5lowpt.txt\n",
      "/afs/cern.ch/user/s/shsong/CMSSW_10_6_20/src/flashggFinalFit/Datacard/datacard_M900/Datacard_M900_cat5lowpt.txt\n",
      "/afs/cern.ch/user/s/shsong/CMSSW_10_6_20/src/flashggFinalFit/Datacard/datacard_M1000/Datacard_M1000_cat5lowpt.txt\n"
     ]
    }
   ],
   "source": [
    "# cat_name = [\"cat5highpt\",\"cat5lowpt\"] #\"M250\"不行\n",
    "# cat_name = [\"cat7\"] #\"M250\"不行\n",
    "cat_name = [\"cat5highpt\",\"cat5lowpt\"]#\"M2000\",\"M2600\",\"M2800\",\"M3000\"\n",
    "# cat_name = [\"cat7highpt\",\"cat7lowpt\"],\"M1300\"\n",
    "# mass_name = [\"M300\",\"M400\",\"M500\",\"M600\",\"M700\",\"M800\",\"M900\",\"M1000\",\"M1100\",\"M1200\",\"M1300\",\"M1400\",\"M1500\",\"M1600\",\"M1700\",\"M1800\",\"M1900\",\"M2000\",\"M2200\",\"M2400\",\"M2600\",\"M2800\",\"M3000\"]\n",
    "mass_name = [\"M250\",\"M300\",\"M400\",\"M500\",\"M600\",\"M700\",\"M800\",\"M900\",\"M1000\"]\n",
    "# mass_name = [\"M300\"]\n",
    "# mass_name = [\"M2000\",\"M2600\",\"M2800\",\"M1000\",\"M1900\"]\n",
    "for cat in cat_name:\n",
    "    for mass in mass_name:    \n",
    "        FHcat_path=\"/afs/cern.ch/user/s/shsong/CMSSW_10_6_20/src/flashggFinalFit/Datacard/Datacard_\"+mass+\"_FH_2016pre_combineFHSL_\"+cat+\".txt\"\n",
    "        SLcat_pat=\"/afs/cern.ch/user/s/shsong/CMSSW_10_6_20/src/flashggFinalFit/Datacard/Datacard_\"+mass+\"_SL_2016pre_combineFHSL_\"+cat+\".txt\"\n",
    "\n",
    "        mass_dir = \"datacard_\" + mass\n",
    "        if not os.path.exists(mass_dir):\n",
    "            os.makedirs(mass_dir)\n",
    "        FHSL_destination_text_path = \"/afs/cern.ch/user/s/shsong/CMSSW_10_6_20/src/flashggFinalFit/Datacard/\" + mass_dir + \"/Datacard_\" + mass + \"_\" + cat + \".txt\"\n",
    "        print(FHSL_destination_text_path)\n",
    "        with open(FHcat_path, 'r') as source_file:\n",
    "                    content = source_file.read()\n",
    "        with open(FHSL_destination_text_path, 'w') as destination_file:\n",
    "            destination_file.write(content)\n",
    "        separator = r'(?<!\\*)\\s+'\n",
    "\n",
    "\n",
    "        # 读取文本文件并使用正则表达式作为分隔符\n",
    "        df_FH = pd.read_table(FHcat_path, sep=separator, header=None, engine='python')\n",
    "        df_SL = pd.read_table(SLcat_pat, sep=separator, header=None, engine='python')\n",
    "\n",
    "        with open(FHSL_destination_text_path, 'r') as file:\n",
    "            lines = file.readlines()\n",
    "        lines[17]=(add_all_line(df_FH,15) + df_SL.iloc[15][2]+ \"\\n\")\n",
    "        lines[18]=(add_all_line(df_FH,16) + df_SL.iloc[16][1]+ \"\\n\")\n",
    "        lines[19]=(add_all_line(df_FH,17) + str(int(df_SL.iloc[17][1])-1)+ \"\\n\")\n",
    "        lines[20]=(add_all_line(df_FH,18) + df_SL.iloc[18][1] + \"\\n\")\n",
    "        lines.insert(10, add_all_line(df_SL, 8) + \"\\n\")\n",
    "\n",
    "        lines.insert((len(lines)-3),add_all_line(df_SL,df_SL.index[-4]) + \"\\n\")\n",
    "        lines.insert((len(lines)-3),add_all_line(df_SL,df_SL.index[-3]) + \"\\n\")\n",
    "        lines.insert((len(lines)-1),add_all_line(df_SL,df_SL.index[-1]) + \"\\n\")\n",
    "\n",
    "        lines[24]=(add_all_line(df_FH,20) + df_SL.iloc[20][2] + \"\\n\")\n",
    "        lines[25]=(add_all_line(df_FH,21) + df_SL.iloc[21][2] + \"\\n\")\n",
    "        lines[26]=(add_all_line(df_FH,22) + df_SL.iloc[22][2] + \"\\n\")\n",
    "        lines[27]=(add_all_line(df_FH,23) + df_SL.iloc[23][2] + \"\\n\")\n",
    "        lines[28]=(add_all_line(df_FH,24) + df_SL.iloc[24][2] + \"\\n\")\n",
    "        lines[29]=(add_all_line(df_FH,25) + df_SL.iloc[25][2] + \"\\n\")\n",
    "        lines[30]=(add_all_line(df_FH,26) + df_SL.iloc[26][2] + \"\\n\")\n",
    "        lines[31]=(add_all_line(df_FH,27) + df_SL.iloc[27][2] + \"\\n\")\n",
    "        lines[32]=(add_all_line(df_FH,28) + df_SL.iloc[28][2] + \"\\n\")\n",
    "        lines[33]=(add_all_line(df_FH,29) + df_SL.iloc[29][2] + \"\\n\")\n",
    "        lines[34]=(add_all_line(df_FH,30) + df_SL.iloc[30][2] + \"\\n\")\n",
    "        lines[35]=(add_all_line(df_FH,31) + df_SL.iloc[31][2] + \"\\n\")\n",
    "        lines[36]=(add_all_line(df_FH,32) + df_SL.iloc[32][2] + \"\\n\")\n",
    "        lines[37]=(add_all_line(df_FH,33) + df_SL.iloc[33][2] + \"\\n\")\n",
    "        lines[38]=(add_all_line(df_FH,34) + df_SL.iloc[34][2] + \"\\n\")\n",
    "        lines[39]=(add_all_line(df_FH,35) + df_SL.iloc[35][2] + \"\\n\")\n",
    "        lines[40]=(add_all_line(df_FH,36) + df_SL.iloc[36][2] + \"\\n\")\n",
    "        lines[41]=(add_all_line(df_FH,37)+ \"\\n\")\n",
    "        lines[42]=(add_all_line(df_FH,38) + df_SL.iloc[38][2] + \"\\n\")\n",
    "        lines[43]=(add_all_line(df_FH,39) + df_SL.iloc[39][2] + \"\\n\")\n",
    "        lines[44]=(add_all_line(df_FH,40) + df_SL.iloc[40][2] + \"\\n\")\n",
    "        lines[45]=(add_all_line(df_FH,41) + df_SL.iloc[41][2] + \"\\n\")    \n",
    "        with open(FHSL_destination_text_path, 'w') as file:\n",
    "            file.writelines(lines)\n",
    "        # # run combine with subprocess\n",
    "# datacards=glob.glob(mass_dir+\"/*.txt\")\n",
    "        \n",
    "# os.chdir(\"/afs/cern.ch/user/s/shsong/CMSSW_10_6_20/src/flashggFinalFit/Datacard/\"+mass_dir+\"/\")\n",
    "# command = \"cmsenv\"\n",
    "# subprocess.call(command, shell=True, stdout=subprocess.PIPE)\n",
    "# command = \"source ../../setup.sh\"\n",
    "# subprocess.call(command, shell=True, stdout=subprocess.PIPE)\n",
    "# command = \"eval `scramv1 runtime -sh`\"\n",
    "# subprocess.call(command, shell=True, stdout=subprocess.PIPE)\n",
    "# log_name = \"log_\" + mass + \"_FHSL_2017_FHSLCombine_\" + cat + \".log\"\n",
    "# command = \" combineCards.py \"+datacards[0]+\" \"+datacards[1]+\" >  Datacard_\"+mass_name[0]+\"_combinedFHSL_cat3.txt\"\n",
    "# subprocess.call(command, shell=True, stdout=subprocess.PIPE)\n",
    "# command = \"combine -M AsymptoticLimits -m 125 --rMax 500000 -d Datacard_\" + mass_name[0] +\"_combinedFHSL_cat3.txt\" + \" --run expected \" + \">\" + log_name+  \" 2>&1 \"\n",
    "# subprocess.call(command, shell=True, stdout=subprocess.PIPE)\n",
    "        # subprocess.system(\"combine -M AsymptoticLimits \" + FHSL_destination_text_path + \" --run expected -t -1 --expectSignal=1 -n \" + mass + \"_FHSL_2017_FHSLCombine_\" + cat + \" --rMin=0.00001 --rMax=500000\" + \"> \" + mass_dir + \"/log_\" + mass + \"_FHSL_2017_FHSLCombine_\" + cat + \".txt\")\n",
    "\n",
    "\n",
    "\n"
   ]
  },
  {
   "cell_type": "code",
   "execution_count": 58,
   "metadata": {},
   "outputs": [],
   "source": [
    "cat_name = [\"cat3highpt\",\"cat3lowpt\"] #\"M250\"不行\n",
    "# cat_name = [\"cat5highpt\",\"cat5lowpt\"]#\"M2000\",\"M2600\",\"M2800\",\"M3000\"\n",
    "# cat_name = [\"cat7highpt\",\"cat7lowpt\"],\"M1300\"\n",
    "# mass_name = [\"M300\",\"M400\",\"M500\",\"M600\",\"M700\",\"M800\",\"M900\",\"M1000\",\"M1100\",\"M1200\",\"M1300\",\"M1400\",\"M1500\",\"M1600\",\"M1700\",\"M1800\",\"M1900\",\"M2000\",\"M2200\",\"M2400\",\"M2600\",\"M2800\",\"M3000\"]\n",
    "# mass_name = [\"M300\",\"M400\",\"M500\",\"M600\",\"M700\",\"M800\",\"M900\",\"M1000\",\"M1100\",\"M1200\",\"M1300\",\"M1400\",\"M1500\",\"M1600\",\"M1700\",\"M1800\",\"M1900\",\"M2200\",\"M2400\",\"M2600\",\"M2800\",\"M3000\"]\n",
    "mass_name = [\"M250\"]"
   ]
  },
  {
   "cell_type": "code",
   "execution_count": 67,
   "metadata": {},
   "outputs": [],
   "source": [
    "combinecard=[]\n",
    "getlimit=[]\n",
    "path=[]\n",
    "for mass in mass_name:\n",
    "    Combine=\"combineCards.py  \"+cat_name[0].split(\"high\")[0]+\"_\"+mass+\"=Datacard_\"+mass+\"_\"+cat_name[0]+\".txt Datacard_\"+mass+\"_\"+cat_name[1]+\".txt > Datacard_\"+mass+\"_\"+cat_name[0].split(\"high\")[0]+\".txt\"\n",
    "    GetLimit=\"combine -M AsymptoticLimits -m 125 -n combineFHSL_\"+cat_name[0].split(\"high\")[0]+\"_\"+mass+\" -d Datacard_\"+mass+\"_\"+cat_name[0].split(\"high\")[0]+\".txt --run expected    \"\n",
    "    combinecard.append(Combine)\n",
    "    getlimit.append(GetLimit)\n",
    "    path.append(\"cd /afs/cern.ch/user/s/shsong/CMSSW_10_6_20/src/flashggFinalFit/Datacard/datacard_\"+mass)\n",
    "    "
   ]
  },
  {
   "cell_type": "code",
   "execution_count": 68,
   "metadata": {},
   "outputs": [
    {
     "name": "stdout",
     "output_type": "stream",
     "text": [
      "cd /afs/cern.ch/user/s/shsong/CMSSW_10_6_20/src/flashggFinalFit/Datacard/datacard_M250\n",
      "combineCards.py  cat5_M250=Datacard_M250_cat5highpt.txt Datacard_M250_cat5lowpt.txt > Datacard_M250_cat5.txt\n",
      "combine -M AsymptoticLimits -m 125 -n combineFHSL_cat5_M250 -d Datacard_M250_cat5.txt --run expected    \n",
      "cd /afs/cern.ch/user/s/shsong/CMSSW_10_6_20/src/flashggFinalFit/Datacard/datacard_M300\n",
      "combineCards.py  cat5_M300=Datacard_M300_cat5highpt.txt Datacard_M300_cat5lowpt.txt > Datacard_M300_cat5.txt\n",
      "combine -M AsymptoticLimits -m 125 -n combineFHSL_cat5_M300 -d Datacard_M300_cat5.txt --run expected    \n",
      "cd /afs/cern.ch/user/s/shsong/CMSSW_10_6_20/src/flashggFinalFit/Datacard/datacard_M400\n",
      "combineCards.py  cat5_M400=Datacard_M400_cat5highpt.txt Datacard_M400_cat5lowpt.txt > Datacard_M400_cat5.txt\n",
      "combine -M AsymptoticLimits -m 125 -n combineFHSL_cat5_M400 -d Datacard_M400_cat5.txt --run expected    \n",
      "cd /afs/cern.ch/user/s/shsong/CMSSW_10_6_20/src/flashggFinalFit/Datacard/datacard_M500\n",
      "combineCards.py  cat5_M500=Datacard_M500_cat5highpt.txt Datacard_M500_cat5lowpt.txt > Datacard_M500_cat5.txt\n",
      "combine -M AsymptoticLimits -m 125 -n combineFHSL_cat5_M500 -d Datacard_M500_cat5.txt --run expected    \n",
      "cd /afs/cern.ch/user/s/shsong/CMSSW_10_6_20/src/flashggFinalFit/Datacard/datacard_M600\n",
      "combineCards.py  cat5_M600=Datacard_M600_cat5highpt.txt Datacard_M600_cat5lowpt.txt > Datacard_M600_cat5.txt\n",
      "combine -M AsymptoticLimits -m 125 -n combineFHSL_cat5_M600 -d Datacard_M600_cat5.txt --run expected    \n",
      "cd /afs/cern.ch/user/s/shsong/CMSSW_10_6_20/src/flashggFinalFit/Datacard/datacard_M700\n",
      "combineCards.py  cat5_M700=Datacard_M700_cat5highpt.txt Datacard_M700_cat5lowpt.txt > Datacard_M700_cat5.txt\n",
      "combine -M AsymptoticLimits -m 125 -n combineFHSL_cat5_M700 -d Datacard_M700_cat5.txt --run expected    \n",
      "cd /afs/cern.ch/user/s/shsong/CMSSW_10_6_20/src/flashggFinalFit/Datacard/datacard_M800\n",
      "combineCards.py  cat5_M800=Datacard_M800_cat5highpt.txt Datacard_M800_cat5lowpt.txt > Datacard_M800_cat5.txt\n",
      "combine -M AsymptoticLimits -m 125 -n combineFHSL_cat5_M800 -d Datacard_M800_cat5.txt --run expected    \n",
      "cd /afs/cern.ch/user/s/shsong/CMSSW_10_6_20/src/flashggFinalFit/Datacard/datacard_M900\n",
      "combineCards.py  cat5_M900=Datacard_M900_cat5highpt.txt Datacard_M900_cat5lowpt.txt > Datacard_M900_cat5.txt\n",
      "combine -M AsymptoticLimits -m 125 -n combineFHSL_cat5_M900 -d Datacard_M900_cat5.txt --run expected    \n",
      "cd /afs/cern.ch/user/s/shsong/CMSSW_10_6_20/src/flashggFinalFit/Datacard/datacard_M1000\n",
      "combineCards.py  cat5_M1000=Datacard_M1000_cat5highpt.txt Datacard_M1000_cat5lowpt.txt > Datacard_M1000_cat5.txt\n",
      "combine -M AsymptoticLimits -m 125 -n combineFHSL_cat5_M1000 -d Datacard_M1000_cat5.txt --run expected    \n"
     ]
    }
   ],
   "source": [
    "for i in range(0,len(getlimit)):\n",
    "    print(path[i])\n",
    "    print(combinecard[i])\n",
    "    print(getlimit[i])"
   ]
  },
  {
   "cell_type": "code",
   "execution_count": 9,
   "metadata": {},
   "outputs": [
    {
     "name": "stderr",
     "output_type": "stream",
     "text": [
      "sh: ./datacard_M800/Datacard_M800_cat3.txt: No such file or directory\n"
     ]
    },
    {
     "data": {
      "text/plain": [
       "256"
      ]
     },
     "execution_count": 9,
     "metadata": {},
     "output_type": "execute_result"
    }
   ],
   "source": [
    "os.chdir(\"/afs/cern.ch/user/s/shsong/CMSSW_10_6_20/src/flashggFinalFit/Datacard/\"+mass_dir+\"/\")\n",
    "command = \"cmsenv\"\n",
    "subprocess.call(command, shell=True, stdout=subprocess.PIPE)\n",
    "command = \"source ../../setup.sh\"\n",
    "command=combinecard[6]\n",
    "os.system(command)"
   ]
  },
  {
   "cell_type": "code",
   "execution_count": null,
   "metadata": {},
   "outputs": [
    {
     "data": {
      "text/plain": [
       "'gghhSL_125_13TeV_cat1_JERDown01sigma'"
      ]
     },
     "metadata": {},
     "output_type": "display_data"
    }
   ],
   "source": [
    "tree_name = \"gghhSL_125_13TeV_cat1_\" + sys + \"Down01sigma\"\n",
    "tree_name"
   ]
  },
  {
   "cell_type": "code",
   "execution_count": 17,
   "metadata": {},
   "outputs": [],
   "source": [
    "for mass in mass_name:\n",
    "    cat = \"cat3\"\n",
    "    # cat = \"cat5\"\n",
    "    # cat = \"cat7\"\n",
    "\n",
    "    datacard_base = \"Datacard\"\n",
    "    datacard_file = f\"{datacard_base}_{mass}_{cat}\"\n",
    "\n",
    "    combine_sh_content = f\"\"\"\\\n",
    "    #!/bin/bash\n",
    "\n",
    "    # Set the mass value and category\n",
    "    mass=\"{mass}\"\n",
    "    cat=\"{cat}\"\n",
    "\n",
    "    # Set the file names\n",
    "    datacard_base=\"Datacard\"\n",
    "    datacard_file=\"${{datacard_base}}_{mass}_${{cat}}\"\n",
    "\n",
    "    # Combine datacards\n",
    "    combineCards.py \"combineFHSL_cat3_${{mass}}\"=\"${{datacard_file}}lowpt.txt\" \"${{datacard_file}}highpt.txt\" > \"${{datacard_file}}.txt\"\n",
    "\n",
    "    # Run AsymptoticLimits\n",
    "    combine -M AsymptoticLimits -m 125 -n \"combineFHSL_cat3_${{mass}}\" -d \"${{datacard_file}}.txt\" --run expected --rMax 50000\n",
    "    \"\"\"\n",
    "\n",
    "    sh_file_path = \"/combinecat3.sh\"\n",
    "    mass_dir = \"datacard_\" + mass\n",
    "    with open(mass_dir+sh_file_path, \"w\") as sh_file:\n",
    "        sh_file.write(combine_sh_content)"
   ]
  },
  {
   "cell_type": "code",
   "execution_count": null,
   "metadata": {},
   "outputs": [],
   "source": []
  }
 ],
 "metadata": {
  "kernelspec": {
   "display_name": "Python 3 (ipykernel)",
   "language": "python",
   "name": "python3"
  },
  "language_info": {
   "codemirror_mode": {
    "name": "ipython",
    "version": 3
   },
   "file_extension": ".py",
   "mimetype": "text/x-python",
   "name": "python",
   "nbconvert_exporter": "python",
   "pygments_lexer": "ipython3",
   "version": "3.9.18"
  },
  "vscode": {
   "interpreter": {
    "hash": "5b8d2736da99e51b868321c84d3e18fd1775dedcf279638e366142aeb2fadaad"
   }
  }
 },
 "nbformat": 4,
 "nbformat_minor": 2
}
