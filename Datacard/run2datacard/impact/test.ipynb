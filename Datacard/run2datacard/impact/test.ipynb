{
 "cells": [
  {
   "cell_type": "code",
   "execution_count": 5,
   "metadata": {},
   "outputs": [],
   "source": [
    "import uproot\n",
    "import awkward as ak"
   ]
  },
  {
   "cell_type": "code",
   "execution_count": 9,
   "metadata": {},
   "outputs": [],
   "source": [
    "wwggfh1 = uproot.open(\"/eos/cms/store/group/phys_b2g/shsong/flashggws/cat34/2017/MX300_MH125/MX300_MH125_2017_wwgg_cat34FHhighpurity.root:gghhwwgg_125_13TeV_cat34FHhighpurity\")\n",
    "wwggfh2 = uproot.open(\"/eos/cms/store/group/phys_b2g/shsong/flashggws/cat34/2017/MX300_MH125/MX300_MH125_2017_wwgg_cat34FHlowpurity.root:gghhwwgg_125_13TeV_cat34FHlowpurity\")\n",
    "wwggsl1 = uproot.open(\"/eos/cms/store/group/phys_b2g/shsong/flashggws/cat34/2017/MX300_MH125/MX300_MH125_2017_wwgg_cat34SLhighpurity.root:gghhwwgg_125_13TeV_cat34SLhighpurity\")\n",
    "wwggsl2 = uproot.open(\"/eos/cms/store/group/phys_b2g/shsong/flashggws/cat34/2017/MX300_MH125/MX300_MH125_2017_wwgg_cat34SLlowpurity.root:gghhwwgg_125_13TeV_cat34SLlowpurity\")\n",
    "ggh1 = uproot.open(\"/eos/cms/store/group/phys_b2g/shsong/flashggws/cat34/2017/MX300_MH125/MX300_MH125_2017_GGH_cat34FHhighpurity.root:gghhGGH_125_13TeV_cat34FHhighpurity\")\n",
    "ggh2 = uproot.open(\"/eos/cms/store/group/phys_b2g/shsong/flashggws/cat34/2017/MX300_MH125/MX300_MH125_2017_GGH_cat34FHlowpurity.root:gghhGGH_125_13TeV_cat34FHlowpurity\")  \n",
    "vbf1 = uproot.open(\"/eos/cms/store/group/phys_b2g/shsong/flashggws/cat34/2017/MX300_MH125/MX300_MH125_2017_VBF_cat34FHhighpurity.root:gghhVBF_125_13TeV_cat34FHhighpurity\")\n",
    "vbf2 = uproot.open(\"/eos/cms/store/group/phys_b2g/shsong/flashggws/cat34/2017/MX300_MH125/MX300_MH125_2017_VBF_cat34FHlowpurity.root:gghhVBF_125_13TeV_cat34FHlowpurity\")  \n",
    "vh1 = uproot.open(\"/eos/cms/store/group/phys_b2g/shsong/flashggws/cat34/2017/MX300_MH125/MX300_MH125_2017_VH_cat34FHhighpurity.root:gghhVH_125_13TeV_cat34FHhighpurity\")\n",
    "vh2 = uproot.open(\"/eos/cms/store/group/phys_b2g/shsong/flashggws/cat34/2017/MX300_MH125/MX300_MH125_2017_VH_cat34FHlowpurity.root:gghhVH_125_13TeV_cat34FHlowpurity\")  \n",
    "tth1 = uproot.open(\"/eos/cms/store/group/phys_b2g/shsong/flashggws/cat34/2017/MX300_MH125/MX300_MH125_2017_TTH_cat34FHhighpurity.root:gghhTTH_125_13TeV_cat34FHhighpurity\")\n",
    "tth2 = uproot.open(\"/eos/cms/store/group/phys_b2g/shsong/flashggws/cat34/2017/MX300_MH125/MX300_MH125_2017_TTH_cat34FHlowpurity.root:gghhTTH_125_13TeV_cat34FHlowpurity\")  "
   ]
  },
  {
   "cell_type": "code",
   "execution_count": 10,
   "metadata": {},
   "outputs": [],
   "source": [
    "wwggfhyield=2*(ak.sum(wwggfh1['weight'].array())+ak.sum(wwggfh2['weight'].array()))\n",
    "wwggslyield=2*(ak.sum(wwggsl1['weight'].array())+ak.sum(wwggsl2['weight'].array()))\n",
    "gghyield=ak.sum(ggh1['weight'].array())+ak.sum(ggh2['weight'].array())\n",
    "vbfyield=ak.sum(vbf1['weight'].array())+ak.sum(vbf2['weight'].array())\n",
    "vhyield=ak.sum(vh1['weight'].array())+ak.sum(vh2['weight'].array())\n",
    "tthyield=ak.sum(tth1['weight'].array())+ak.sum(tth2['weight'].array())"
   ]
  },
  {
   "cell_type": "code",
   "execution_count": 11,
   "metadata": {},
   "outputs": [
    {
     "name": "stdout",
     "output_type": "stream",
     "text": [
      "wwggfh yield:  0.0028757803721357325\n",
      "wwggsl yield:  0.0011880872275410218\n",
      "ggh yield:  58.06482288127599\n",
      "vbf yield:  4.687726760998454\n",
      "vh yield:  8.828109748733779\n",
      "tth yield:  1.4020975451575308\n"
     ]
    }
   ],
   "source": [
    "print(\"wwggfh yield: \",wwggfhyield)\n",
    "print(\"wwggsl yield: \",wwggslyield)\n",
    "print(\"ggh yield: \",gghyield)\n",
    "print(\"vbf yield: \",vbfyield)\n",
    "print(\"vh yield: \",vhyield)\n",
    "print(\"tth yield: \",tthyield)"
   ]
  },
  {
   "cell_type": "code",
   "execution_count": null,
   "metadata": {},
   "outputs": [],
   "source": []
  }
 ],
 "metadata": {
  "kernelspec": {
   "display_name": "higgsdna",
   "language": "python",
   "name": "python3"
  },
  "language_info": {
   "codemirror_mode": {
    "name": "ipython",
    "version": 3
   },
   "file_extension": ".py",
   "mimetype": "text/x-python",
   "name": "python",
   "nbconvert_exporter": "python",
   "pygments_lexer": "ipython3",
   "version": "3.9.19"
  }
 },
 "nbformat": 4,
 "nbformat_minor": 2
}
